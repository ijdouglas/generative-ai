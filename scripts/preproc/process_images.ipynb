{
 "cells": [
  {
   "cell_type": "code",
   "execution_count": 1,
   "id": "05c7af28",
   "metadata": {},
   "outputs": [],
   "source": [
    "import cv2\n",
    "import os\n",
    "import shutil as sh\n",
    "import pandas as pd\n",
    "import numpy as np\n",
    "from numpy import argmax\n",
    "os.chdir('/Users/iandouglas/Projects/Repos/generative-ai/')"
   ]
  },
  {
   "cell_type": "markdown",
   "id": "cb95dfbc",
   "metadata": {},
   "source": [
    "#### Setup\n",
    "\n",
    "Move gallery images into before and after folders so they can be accessed by the dataloader."
   ]
  },
  {
   "cell_type": "code",
   "execution_count": 2,
   "id": "05fe1955",
   "metadata": {
    "scrolled": false
   },
   "outputs": [
    {
     "data": {
      "text/plain": [
       "[['imgur_BMdqM_004_OmMXO2v.jpg',\n",
       "  'imgur_BMdqM_003_dw0JL2M.jpg',\n",
       "  'imgur_BMdqM_002_S62FoPS.jpg',\n",
       "  'imgur_BMdqM_001_WDXyKXs.jpg'],\n",
       " ['imgur_zXvx0_003_DXgggtF.jpg',\n",
       "  'imgur_zXvx0_002_aDrVOqE.jpg',\n",
       "  'imgur_zXvx0_001_gN7WdB0.jpg',\n",
       "  'imgur_zXvx0_004_xcv5yjV.jpg',\n",
       "  'imgur_zXvx0_005_Xxs4PWP.jpg']]"
      ]
     },
     "execution_count": 2,
     "metadata": {},
     "output_type": "execute_result"
    }
   ],
   "source": [
    "gallery_dir = 'data/image_extraction/progresspics/gallery'\n",
    "galleries = os.listdir(gallery_dir)\n",
    "[os.listdir(f\"{gallery_dir}/{x}\")for x in galleries[0:2]]"
   ]
  },
  {
   "cell_type": "code",
   "execution_count": 16,
   "id": "4242feaa",
   "metadata": {},
   "outputs": [
    {
     "data": {
      "text/plain": [
       "[None, None]"
      ]
     },
     "execution_count": 16,
     "metadata": {},
     "output_type": "execute_result"
    }
   ],
   "source": [
    "before_dir = 'data/img/before'\n",
    "after_dir = 'data/img/after'\n",
    "[os.makedirs(x, exist_ok = True) for x in [before_dir, after_dir]]"
   ]
  },
  {
   "cell_type": "code",
   "execution_count": 17,
   "id": "154596b1",
   "metadata": {},
   "outputs": [],
   "source": [
    "def copy_before_after(dir_):\n",
    "    filename = f\"{dir_}.jpg\"\n",
    "    images = os.listdir(f\"{gallery_dir}/{dir_}\")\n",
    "    if len(images) > 1:\n",
    "        image_num = [int(x.split('_')[2]) for x in images]\n",
    "        before = images[0]\n",
    "        after = images[argmax(image_num)]\n",
    "        sh.copy(f\"{gallery_dir}/{dir_}/{before}\",\n",
    "                f\"{before_dir}/{filename}\")\n",
    "        sh.copy(f\"{gallery_dir}/{dir_}/{after}\",\n",
    "                f\"{after_dir}/{filename}\")"
   ]
  },
  {
   "cell_type": "code",
   "execution_count": 18,
   "id": "78eeecaa",
   "metadata": {},
   "outputs": [],
   "source": [
    "for i in galleries:\n",
    "    copy_before_after(i)"
   ]
  },
  {
   "cell_type": "code",
   "execution_count": 20,
   "id": "437e82cb",
   "metadata": {},
   "outputs": [
    {
     "name": "stdout",
     "output_type": "stream",
     "text": [
      "8307\n"
     ]
    },
    {
     "data": {
      "text/plain": [
       "8307"
      ]
     },
     "execution_count": 20,
     "metadata": {},
     "output_type": "execute_result"
    }
   ],
   "source": [
    "print(len(os.listdir('data/img/before')))\n",
    "len(os.listdir('data/img/after'))"
   ]
  },
  {
   "cell_type": "markdown",
   "id": "c558f8b7",
   "metadata": {},
   "source": [
    "### Splitting images\n",
    "\n",
    "Before/after images that were downloaded as a single file need to be split. Most of the images are simply pasted together, while others have borders. If borders are detected, crop the individual images easily from them. Otherwise:\n",
    "\n",
    "* Using a sliding window of size h x 2 (two pixels wide), find the columns that have the largest mean squared difference in hue (on greyscale).\n",
    "* This is most likely the point where they created their collage and appended their two images.\n",
    "* Search is narrowed to the inner 3/5 of the image."
   ]
  },
  {
   "cell_type": "code",
   "execution_count": 22,
   "id": "55943a9f",
   "metadata": {},
   "outputs": [],
   "source": [
    "def find_best_line_and_split(file_path, before_dir, after_dir):\n",
    "    filename = file_path.split('/')[-1]\n",
    "    id_ = filename.split('.')[0]\n",
    "    \n",
    "    # Read the grayscale image\n",
    "    img_gray = cv2.imread(file_path, cv2.IMREAD_GRAYSCALE)\n",
    "\n",
    "    # Window size\n",
    "    # It should be as small as possible\n",
    "    window_width = 2\n",
    "\n",
    "    # Define the range for the window search (1/5 to 4/5 from the left)\n",
    "    start_col = int(img_gray.shape[1] / 5)\n",
    "    end_col = int(4 * img_gray.shape[1] / 5)\n",
    "\n",
    "    # Initialize variables to store the best line information\n",
    "    best_line_col1 = start_col\n",
    "    best_line_col2 = start_col + window_width\n",
    "    max_mse = 0 # start at no difference between columns\n",
    "\n",
    "    # Iterate through columns within the specified range\n",
    "    for col in range(start_col, end_col - window_width):\n",
    "        # Extract two columns in the window\n",
    "        window_cols = img_gray[:, col:col+window_width]\n",
    "\n",
    "        # Calculate mean squared absolute difference\n",
    "        mse = np.mean(np.square(np.diff(window_cols)))\n",
    "\n",
    "        # Update best line if current mse is greater\n",
    "        if mse > max_mse:\n",
    "            max_mse = mse\n",
    "            best_line_col1 = col\n",
    "            best_line_col2 = col + window_width\n",
    "\n",
    "    # Read the original color image to split it (don't save greyscale!)\n",
    "    img_color = cv2.imread(file_path)\n",
    "\n",
    "    # Crop the color image into \"before\" and \"after\"\n",
    "    before_img = img_color[:, :best_line_col1, :]\n",
    "    after_img = img_color[:, best_line_col1:, :]\n",
    "\n",
    "    # Save the cropped color images with the original filename\n",
    "    out_before = f\"{before_dir}/{filename}\"\n",
    "    out_after = f\"{after_dir}/{filename}\"\n",
    "    cv2.imwrite(out_before, before_img)\n",
    "    cv2.imwrite(out_after, after_img)\n"
   ]
  },
  {
   "cell_type": "code",
   "execution_count": 33,
   "id": "00f09b30",
   "metadata": {},
   "outputs": [],
   "source": [
    "img_dir = 'data/image_extraction/progresspics/url/'\n",
    "url_images = [img_dir + x for x in os.listdir(img_dir)] # full paths"
   ]
  },
  {
   "cell_type": "code",
   "execution_count": 34,
   "id": "3c63c9d8",
   "metadata": {},
   "outputs": [],
   "source": [
    "test_urls = pd.Series(url_images).sample(n = 100)"
   ]
  },
  {
   "cell_type": "code",
   "execution_count": 35,
   "id": "cd2587a2",
   "metadata": {},
   "outputs": [
    {
     "data": {
      "text/plain": [
       "82295    None\n",
       "25316    None\n",
       "34577    None\n",
       "63077    None\n",
       "33927    None\n",
       "         ... \n",
       "55977    None\n",
       "12696    None\n",
       "35312    None\n",
       "25631    None\n",
       "56340    None\n",
       "Length: 100, dtype: object"
      ]
     },
     "execution_count": 35,
     "metadata": {},
     "output_type": "execute_result"
    }
   ],
   "source": [
    "before_dir = 'data/image_extraction/progresspics/split_url/before/'\n",
    "after_dir = 'data/image_extraction/progresspics/split_url/after/'\n",
    "test_urls.apply(lambda x: find_best_line_and_split(x, before_dir, after_dir))"
   ]
  }
 ],
 "metadata": {
  "kernelspec": {
   "display_name": "Python 3 (ipykernel)",
   "language": "python",
   "name": "python3"
  },
  "language_info": {
   "codemirror_mode": {
    "name": "ipython",
    "version": 3
   },
   "file_extension": ".py",
   "mimetype": "text/x-python",
   "name": "python",
   "nbconvert_exporter": "python",
   "pygments_lexer": "ipython3",
   "version": "3.10.9"
  }
 },
 "nbformat": 4,
 "nbformat_minor": 5
}
