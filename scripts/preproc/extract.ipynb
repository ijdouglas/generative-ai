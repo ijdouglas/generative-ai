{
 "cells": [
  {
   "cell_type": "code",
   "execution_count": 33,
   "id": "9d09f253",
   "metadata": {},
   "outputs": [],
   "source": [
    "import pandas as pd\n",
    "import os\n",
    "import dask\n",
    "import dask.dataframe as dd\n",
    "from dask.multiprocessing import get\n",
    "from dask import delayed, compute\n",
    "from dask.diagnostics import ProgressBar\n",
    "import requests\n",
    "# For downloading galleries, a command line tool will be needed:\n",
    "#!python3 -m pip install -U gallery-dl"
   ]
  },
  {
   "cell_type": "code",
   "execution_count": 34,
   "id": "331af6fb",
   "metadata": {},
   "outputs": [],
   "source": [
    "os.chdir(\"/Users/iandouglas/Projects/Repos/generative-ai/\")"
   ]
  },
  {
   "cell_type": "code",
   "execution_count": 35,
   "id": "49f53d94",
   "metadata": {
    "colab": {
     "base_uri": "https://localhost:8080/"
    },
    "id": "l4MbcLvqK0hz",
    "outputId": "82d40426-5134-4f43-b8d3-5d33b8544224"
   },
   "outputs": [
    {
     "data": {
      "text/plain": [
       "12"
      ]
     },
     "execution_count": 35,
     "metadata": {},
     "output_type": "execute_result"
    }
   ],
   "source": [
    "import multiprocessing\n",
    "\n",
    "cores = multiprocessing.cpu_count() # Count the number of cores in a computer\n",
    "cores"
   ]
  },
  {
   "cell_type": "code",
   "execution_count": 36,
   "id": "8089bd79",
   "metadata": {},
   "outputs": [
    {
     "data": {
      "text/html": [
       "<div>\n",
       "<style scoped>\n",
       "    .dataframe tbody tr th:only-of-type {\n",
       "        vertical-align: middle;\n",
       "    }\n",
       "\n",
       "    .dataframe tbody tr th {\n",
       "        vertical-align: top;\n",
       "    }\n",
       "\n",
       "    .dataframe thead th {\n",
       "        text-align: right;\n",
       "    }\n",
       "</style>\n",
       "<table border=\"1\" class=\"dataframe\">\n",
       "  <thead>\n",
       "    <tr style=\"text-align: right;\">\n",
       "      <th></th>\n",
       "      <th>id</th>\n",
       "      <th>author</th>\n",
       "      <th>selftext</th>\n",
       "      <th>title</th>\n",
       "      <th>url</th>\n",
       "      <th>thumbnail</th>\n",
       "      <th>created_utc</th>\n",
       "      <th>is_self</th>\n",
       "      <th>media</th>\n",
       "      <th>over_18</th>\n",
       "      <th>domain</th>\n",
       "      <th>download_method</th>\n",
       "      <th>clean_url</th>\n",
       "    </tr>\n",
       "  </thead>\n",
       "  <tbody>\n",
       "    <tr>\n",
       "      <th>0</th>\n",
       "      <td>i7j83</td>\n",
       "      <td>bronzehydra</td>\n",
       "      <td>NaN</td>\n",
       "      <td>The less lustrous hydra 4-month progress pics</td>\n",
       "      <td>http://imgur.com/Zzj9Z</td>\n",
       "      <td>http://thumbs.reddit.com/t3_i7j83.png</td>\n",
       "      <td>1308864675</td>\n",
       "      <td>False</td>\n",
       "      <td>None</td>\n",
       "      <td>False</td>\n",
       "      <td>imgur.com</td>\n",
       "      <td>url</td>\n",
       "      <td>http://imgur.com/Zzj9Z.jpg</td>\n",
       "    </tr>\n",
       "    <tr>\n",
       "      <th>1</th>\n",
       "      <td>i7g9t</td>\n",
       "      <td>[deleted]</td>\n",
       "      <td>NaN</td>\n",
       "      <td>SquatzOatz 1 year progress</td>\n",
       "      <td>http://i.imgur.com/9HRwh.jpg</td>\n",
       "      <td>default</td>\n",
       "      <td>1308858971</td>\n",
       "      <td>False</td>\n",
       "      <td>None</td>\n",
       "      <td>False</td>\n",
       "      <td>i.imgur.com</td>\n",
       "      <td>url</td>\n",
       "      <td>http://i.imgur.com/9HRwh.jpg</td>\n",
       "    </tr>\n",
       "    <tr>\n",
       "      <th>2</th>\n",
       "      <td>i7g0g</td>\n",
       "      <td>LifeStartsNow</td>\n",
       "      <td>NaN</td>\n",
       "      <td>I hate this dress (dont bridesmaids always hat...</td>\n",
       "      <td>http://i.imgur.com/uxBnu.jpg</td>\n",
       "      <td>http://thumbs.reddit.com/t3_i7g0g.png</td>\n",
       "      <td>1308858497</td>\n",
       "      <td>False</td>\n",
       "      <td>None</td>\n",
       "      <td>False</td>\n",
       "      <td>i.imgur.com</td>\n",
       "      <td>url</td>\n",
       "      <td>http://i.imgur.com/uxBnu.jpg</td>\n",
       "    </tr>\n",
       "    <tr>\n",
       "      <th>3</th>\n",
       "      <td>i7fh2</td>\n",
       "      <td>Jillatha</td>\n",
       "      <td>NaN</td>\n",
       "      <td>My progress pic :) 251lbs-137lbs :)</td>\n",
       "      <td>http://i.imgur.com/eMdlj.jpg</td>\n",
       "      <td>http://thumbs.reddit.com/t3_i7fh2.png</td>\n",
       "      <td>1308857538</td>\n",
       "      <td>False</td>\n",
       "      <td>None</td>\n",
       "      <td>False</td>\n",
       "      <td>i.imgur.com</td>\n",
       "      <td>url</td>\n",
       "      <td>http://i.imgur.com/eMdlj.jpg</td>\n",
       "    </tr>\n",
       "    <tr>\n",
       "      <th>4</th>\n",
       "      <td>i7ejj</td>\n",
       "      <td>[deleted]</td>\n",
       "      <td>NaN</td>\n",
       "      <td>Here is my most current before/after pics.</td>\n",
       "      <td>http://i.imgur.com/KOjSB.jpg</td>\n",
       "      <td>default</td>\n",
       "      <td>1308855704</td>\n",
       "      <td>False</td>\n",
       "      <td>None</td>\n",
       "      <td>False</td>\n",
       "      <td>i.imgur.com</td>\n",
       "      <td>url</td>\n",
       "      <td>http://i.imgur.com/KOjSB.jpg</td>\n",
       "    </tr>\n",
       "  </tbody>\n",
       "</table>\n",
       "</div>"
      ],
      "text/plain": [
       "      id         author selftext  \\\n",
       "0  i7j83    bronzehydra      NaN   \n",
       "1  i7g9t      [deleted]      NaN   \n",
       "2  i7g0g  LifeStartsNow      NaN   \n",
       "3  i7fh2       Jillatha      NaN   \n",
       "4  i7ejj      [deleted]      NaN   \n",
       "\n",
       "                                               title  \\\n",
       "0     The less lustrous hydra 4-month progress pics    \n",
       "1                         SquatzOatz 1 year progress   \n",
       "2  I hate this dress (dont bridesmaids always hat...   \n",
       "3               My progress pic :) 251lbs-137lbs :)    \n",
       "4         Here is my most current before/after pics.   \n",
       "\n",
       "                            url                              thumbnail  \\\n",
       "0        http://imgur.com/Zzj9Z  http://thumbs.reddit.com/t3_i7j83.png   \n",
       "1  http://i.imgur.com/9HRwh.jpg                                default   \n",
       "2  http://i.imgur.com/uxBnu.jpg  http://thumbs.reddit.com/t3_i7g0g.png   \n",
       "3  http://i.imgur.com/eMdlj.jpg  http://thumbs.reddit.com/t3_i7fh2.png   \n",
       "4  http://i.imgur.com/KOjSB.jpg                                default   \n",
       "\n",
       "   created_utc  is_self media  over_18       domain download_method  \\\n",
       "0   1308864675    False  None    False    imgur.com             url   \n",
       "1   1308858971    False  None    False  i.imgur.com             url   \n",
       "2   1308858497    False  None    False  i.imgur.com             url   \n",
       "3   1308857538    False  None    False  i.imgur.com             url   \n",
       "4   1308855704    False  None    False  i.imgur.com             url   \n",
       "\n",
       "                      clean_url  \n",
       "0    http://imgur.com/Zzj9Z.jpg  \n",
       "1  http://i.imgur.com/9HRwh.jpg  \n",
       "2  http://i.imgur.com/uxBnu.jpg  \n",
       "3  http://i.imgur.com/eMdlj.jpg  \n",
       "4  http://i.imgur.com/KOjSB.jpg  "
      ]
     },
     "execution_count": 36,
     "metadata": {},
     "output_type": "execute_result"
    }
   ],
   "source": [
    "d = pd.read_csv(\"data/flat/p_notself_clean.csv\", index_col = None)\n",
    "d.head()"
   ]
  },
  {
   "cell_type": "markdown",
   "id": "8e3296ed",
   "metadata": {},
   "source": [
    "#### Define functions to download images\n",
    "\n",
    "If the request will be sent to an image directly, use `requests`, otherwise (for galleries) use the command line tool `gallery-dl`."
   ]
  },
  {
   "cell_type": "code",
   "execution_count": 45,
   "id": "cc66f741",
   "metadata": {
    "id": "L2xxu7FfGALQ"
   },
   "outputs": [],
   "source": [
    "# Function to download from url to an image\n",
    "def download_image(url, id_, save_dir = 'data/image_extraction/progresspics/url'):\n",
    "    filepath = os.path.join(save_dir, f\"{id_}.jpg\")\n",
    "    if not os.path.exists(filepath):\n",
    "        try:\n",
    "            response = requests.get(url)\n",
    "            response.raise_for_status()  # Raise an HTTPError for bad responses\n",
    "            #print(f'{timestamp_()}: Trying to save {filepath}')\n",
    "            with open(filepath, 'wb') as f:\n",
    "                f.write(response.content)\n",
    "                f.close()\n",
    "                #print(f'{timestamp_()}: Save succesful at {filepath}')\n",
    "        except requests.RequestException as e:\n",
    "            pass # print(f\"Failed to download image from {url}. Error: {e}\")\n",
    "    else:\n",
    "        pass # print(f\"{filepath} already exists.\")\n",
    "\n",
    "# gallery extraction\n",
    "def gallery_extraction(url,\n",
    "                       id_, \n",
    "                       save_dir = 'data/image_extraction/progresspics/gallery'):\n",
    "    # Compose and execute command\n",
    "    dest = os.path.join(save_dir, id_) # post-specific directory\n",
    "    subproc = ['gallery-dl', '-q', f'-D {dest}', url]\n",
    "    res = subprocess.run(subproc, stdout = subprocess.DEVNULL, stderr = subprocess.DEVNULL)\n",
    "    # Return nothing\n",
    "\n",
    "# Setup a function to operate on a dask partition df\n",
    "def map_download(df_):\n",
    "    return df_.apply(download_row, axis = 1)\n",
    "\n",
    "# Setup function to download each row\n",
    "def download_row(row, complete_file = \"logs/complete_list.log\"):\n",
    "    if row['download_method'] == 'gallery':\n",
    "        os.system(f\"echo {row.id} >> {complete_file}\")\n",
    "        gallery_extraction(row['clean_url'], row['id'])\n",
    "    elif row['download_method'] == 'url':\n",
    "        os.system(f\"echo {row.id} >> {complete_file}\")\n",
    "        download_image(row['clean_url'], row['id'])"
   ]
  },
  {
   "cell_type": "markdown",
   "id": "ae1e2f47",
   "metadata": {},
   "source": [
    "#### Setup dask partitions"
   ]
  },
  {
   "cell_type": "code",
   "execution_count": 46,
   "id": "198b1045",
   "metadata": {
    "colab": {
     "base_uri": "https://localhost:8080/"
    },
    "id": "0OyE7kkeF8g6",
    "outputId": "c49a9546-c13b-4b19-feb2-f2e3f1427794"
   },
   "outputs": [
    {
     "name": "stderr",
     "output_type": "stream",
     "text": [
      "/Users/iandouglas/miniconda3/lib/python3.10/site-packages/dask/dataframe/utils.py:312: FutureWarning: The default dtype for empty Series will be 'object' instead of 'float64' in a future version. Specify a dtype explicitly to silence this warning.\n",
      "  return pd.Series([], dtype=dtype, name=name, index=index)\n"
     ]
    }
   ],
   "source": [
    "ddf = dd.from_pandas(d, npartitions = 30)\n",
    "task = ddf.map_partitions(map_download, meta = (None, None))"
   ]
  },
  {
   "cell_type": "code",
   "execution_count": 47,
   "id": "87901876",
   "metadata": {
    "colab": {
     "base_uri": "https://localhost:8080/",
     "height": 64
    },
    "id": "zYcisgPMPa36",
    "outputId": "e8a01cd6-19f2-4568-8593-066e258ca1c6"
   },
   "outputs": [
    {
     "data": {
      "image/png": "[encoded data removed]",
      "text/plain": [
       "<IPython.core.display.Image object>"
      ]
     },
     "execution_count": 47,
     "metadata": {},
     "output_type": "execute_result"
    }
   ],
   "source": [
    "task.visualize()"
   ]
  },
  {
   "cell_type": "code",
   "execution_count": null,
   "id": "cc5a2fc1",
   "metadata": {
    "colab": {
     "base_uri": "https://localhost:8080/",
     "height": 321
    },
    "id": "Z3mniLzePcDD",
    "outputId": "e713d3f4-711c-4d1f-d087-3bd003f0883e"
   },
   "outputs": [
    {
     "name": "stdout",
     "output_type": "stream",
     "text": [
      "[                                        ] | 0% Completed | 19m 51sss"
     ]
    }
   ],
   "source": [
    "with ProgressBar():\n",
    "    task.compute()"
   ]
  },
  {
   "cell_type": "code",
   "execution_count": null,
   "id": "73cb2a01",
   "metadata": {},
   "outputs": [],
   "source": []
  }
 ],
 "metadata": {
  "kernelspec": {
   "display_name": "Python 3 (ipykernel)",
   "language": "python",
   "name": "python3"
  },
  "language_info": {
   "codemirror_mode": {
    "name": "ipython",
    "version": 3
   },
   "file_extension": ".py",
   "mimetype": "text/x-python",
   "name": "python",
   "nbconvert_exporter": "python",
   "pygments_lexer": "ipython3",
   "version": "3.10.9"
  }
 },
 "nbformat": 4,
 "nbformat_minor": 5
}
